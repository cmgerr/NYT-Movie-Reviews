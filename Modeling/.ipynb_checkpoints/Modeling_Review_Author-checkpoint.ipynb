{
 "cells": [
  {
   "cell_type": "code",
   "execution_count": 44,
   "metadata": {
    "collapsed": true
   },
   "outputs": [],
   "source": [
    "import pandas as pd\n",
    "import numpy as np\n",
    "import matplotlib.pyplot as plt\n",
    "import seaborn as sns\n",
    "%matplotlib inline\n",
    "from sklearn.preprocessing import StandardScaler, LabelEncoder\n",
    "from sklearn.neighbors import KNeighborsClassifier\n",
    "from sklearn.pipeline import make_pipeline, Pipeline, FeatureUnion\n",
    "from sklearn.cross_validation import cross_val_score, train_test_split\n",
    "from sklearn.naive_bayes import MultinomialNB\n",
    "from sklearn.feature_extraction.text import CountVectorizer, TfidfTransformer, TfidfVectorizer\n",
    "from sklearn.svm import SVC\n",
    "from nltk.stem.porter import PorterStemmer\n",
    "from nltk import word_tokenize\n",
    "from sklearn.grid_search import GridSearchCV\n",
    "from sklearn.metrics import confusion_matrix, classification_report\n",
    "\n",
    "# set random state\n",
    "rs = 47"
   ]
  },
  {
   "cell_type": "code",
   "execution_count": 113,
   "metadata": {
    "collapsed": false
   },
   "outputs": [],
   "source": [
    "df = pd.read_csv('../../NYT_Reviews_Cleaned.csv')"
   ]
  },
  {
   "cell_type": "code",
   "execution_count": 114,
   "metadata": {
    "collapsed": false
   },
   "outputs": [],
   "source": [
    "# update publication date to datetime and set as index\n",
    "df['publication_date'] = pd.to_datetime(df['publication_date'])\n",
    "df.set_index('publication_date', inplace=True)"
   ]
  },
  {
   "cell_type": "code",
   "execution_count": 120,
   "metadata": {
    "collapsed": false
   },
   "outputs": [
    {
     "name": "stdout",
     "output_type": "stream",
     "text": [
      "40\n",
      "a. o. scott            0.20\n",
      "stephen holden         0.19\n",
      "jeannette catsoulis    0.12\n",
      "manohla dargis         0.12\n",
      "neil genzlinger        0.05\n",
      "elvis mitchell         0.05\n",
      "nicolas rapold         0.04\n",
      "andy webster           0.03\n",
      "dave kehr              0.03\n",
      "en kenigsberg          0.02\n",
      "nathan lee             0.02\n",
      "rachel saltz           0.02\n",
      "mike hale              0.02\n",
      "matt zoller seitz      0.02\n",
      "daniel m. gold         0.01\n",
      "lawrence van gelder    0.01\n",
      "laura kern             0.01\n",
      "anita gates            0.01\n",
      "miriam bale            0.01\n",
      "glenn kenny            0.01\n",
      "david dewitt           0.01\n",
      "ken jaworowski         0.00\n",
      "nicole herrington      0.00\n",
      "helen t. verongos      0.00\n",
      "paul brunick           0.00\n",
      "jon caramanica         0.00\n",
      "dana stevens           0.00\n",
      "janet maslin           0.00\n",
      "carina chocano         0.00\n",
      "roberta smith          0.00\n",
      "ned martel             0.00\n",
      "john anderson          0.00\n",
      "ron wertheimer         0.00\n",
      "phillip lopate         0.00\n",
      "rian seibert           0.00\n",
      "geoffrey o’brien       0.00\n",
      "michael kinsley        0.00\n",
      "julie salamon          0.00\n",
      "john williams          0.00\n",
      "ella taylor            0.00\n",
      "Name: byline, dtype: float64\n"
     ]
    }
   ],
   "source": [
    "# look at % of dataset made up by each writer\n",
    "print len(np.unique(df.byline))\n",
    "print (df.byline.value_counts()/df.byline.count()).round(decimals=2)"
   ]
  },
  {
   "cell_type": "code",
   "execution_count": 24,
   "metadata": {
    "collapsed": false
   },
   "outputs": [],
   "source": [
    "# keep only the writers who represent >5% of the dataset: 6 writers in total\n",
    "df = df[df['byline'].isin(['a. o. scott', 'stephen holden', 'jeannette catsoulis', \n",
    "                       'manohla dargis', 'neil genzlinger', 'elvis mitchell'])]"
   ]
  },
  {
   "cell_type": "code",
   "execution_count": 25,
   "metadata": {
    "collapsed": true
   },
   "outputs": [],
   "source": [
    "X = df['full_review_text']\n",
    "y = df['byline']"
   ]
  },
  {
   "cell_type": "code",
   "execution_count": 26,
   "metadata": {
    "collapsed": false
   },
   "outputs": [
    {
     "data": {
      "text/plain": [
       "a. o. scott            0.267999\n",
       "stephen holden         0.263791\n",
       "jeannette catsoulis    0.165489\n",
       "manohla dargis         0.162483\n",
       "neil genzlinger        0.070645\n",
       "elvis mitchell         0.069593\n",
       "Name: byline, dtype: float64"
      ]
     },
     "execution_count": 26,
     "metadata": {},
     "output_type": "execute_result"
    }
   ],
   "source": [
    "# check class balance\n",
    "y.value_counts()/y.count()"
   ]
  },
  {
   "cell_type": "code",
   "execution_count": 27,
   "metadata": {
    "collapsed": true
   },
   "outputs": [],
   "source": [
    "# encode target variable\n",
    "le = LabelEncoder()\n",
    "y = le.fit_transform(y)"
   ]
  },
  {
   "cell_type": "markdown",
   "metadata": {},
   "source": [
    "## CountVectorizer with stemmer and SVM worked best for critic's pick prediction; try it first for author prediction"
   ]
  },
  {
   "cell_type": "code",
   "execution_count": 30,
   "metadata": {
    "collapsed": false
   },
   "outputs": [],
   "source": [
    "stemmer = PorterStemmer()\n",
    "\n",
    "def tokenize(s):\n",
    "    words = word_tokenize(s)\n",
    "    word_stems = []\n",
    "    for word in words:\n",
    "        word_stems.append(stemmer.stem(word))\n",
    "    return word_stems"
   ]
  },
  {
   "cell_type": "code",
   "execution_count": 100,
   "metadata": {
    "collapsed": false
   },
   "outputs": [],
   "source": [
    "pipe = make_pipeline(\n",
    "    CountVectorizer(strip_accents = 'ascii', analyzer = tokenize, stop_words = 'english'),\n",
    "    SVC(random_state=rs, kernel = 'rbf')\n",
    ")"
   ]
  },
  {
   "cell_type": "code",
   "execution_count": 101,
   "metadata": {
    "collapsed": false
   },
   "outputs": [],
   "source": [
    "param_grid = dict(countvectorizer__ngram_range = [(1,1),(1,3),(1,5)],\n",
    "                 svc__C = [0.01,0.1,1,10,100])\n",
    "grid = GridSearchCV(pipe, param_grid, cv=3, scoring='accuracy', verbose=1, n_jobs=-1)"
   ]
  },
  {
   "cell_type": "code",
   "execution_count": 34,
   "metadata": {
    "collapsed": false
   },
   "outputs": [
    {
     "name": "stdout",
     "output_type": "stream",
     "text": [
      "Fitting 3 folds for each of 30 candidates, totalling 90 fits\n"
     ]
    },
    {
     "name": "stderr",
     "output_type": "stream",
     "text": [
      "[Parallel(n_jobs=-1)]: Done  34 tasks      | elapsed: 22.6min\n",
      "[Parallel(n_jobs=-1)]: Done  90 out of  90 | elapsed: 52.1min finished\n"
     ]
    },
    {
     "data": {
      "text/plain": [
       "GridSearchCV(cv=3, error_score='raise',\n",
       "       estimator=Pipeline(steps=[('countvectorizer', CountVectorizer(analyzer=<function tokenize at 0x11fd2ae60>, binary=False,\n",
       "        decode_error=u'strict', dtype=<type 'numpy.int64'>,\n",
       "        encoding=u'utf-8', input=u'content', lowercase=True, max_df=1.0,\n",
       "        max_features=None, min_df=1, ngram_range=(1, 1), preproce...f',\n",
       "  max_iter=-1, probability=False, random_state=47, shrinking=True,\n",
       "  tol=0.001, verbose=False))]),\n",
       "       fit_params={}, iid=True, n_jobs=-1,\n",
       "       param_grid={'countvectorizer__ngram_range': [(1, 1), (1, 3), (1, 5)], 'svc__kernel': ['rbf', 'linear'], 'svc__C': [0.01, 0.1, 1, 10, 100]},\n",
       "       pre_dispatch='2*n_jobs', refit=True, scoring='accuracy', verbose=1)"
      ]
     },
     "execution_count": 34,
     "metadata": {},
     "output_type": "execute_result"
    }
   ],
   "source": [
    "grid.fit(X, y)"
   ]
  },
  {
   "cell_type": "code",
   "execution_count": 35,
   "metadata": {
    "collapsed": false
   },
   "outputs": [
    {
     "name": "stdout",
     "output_type": "stream",
     "text": [
      "0.926499323613\n",
      "{'countvectorizer__ngram_range': (1, 1), 'svc__kernel': 'rbf', 'svc__C': 100}\n"
     ]
    }
   ],
   "source": [
    "print grid.best_score_\n",
    "print grid.best_params_"
   ]
  },
  {
   "cell_type": "code",
   "execution_count": 38,
   "metadata": {
    "collapsed": false
   },
   "outputs": [],
   "source": [
    "# use train_test_split and pipeline with optimized parameters to assess model performance\n",
    "X_train, X_test, y_train, y_test = train_test_split(X, y,\n",
    "        stratify = y, test_size=0.2, random_state=rs)"
   ]
  },
  {
   "cell_type": "code",
   "execution_count": 40,
   "metadata": {
    "collapsed": true
   },
   "outputs": [],
   "source": [
    "# pipeline with gridsearched best parameters\n",
    "optimized_svcpipe = make_pipeline(\n",
    "    CountVectorizer(strip_accents = 'ascii', analyzer = tokenize, stop_words = 'english',\n",
    "                   ngram_range = (1,1)),\n",
    "    SVC(random_state=rs, kernel = 'rbf', C = 100)\n",
    ")"
   ]
  },
  {
   "cell_type": "code",
   "execution_count": 41,
   "metadata": {
    "collapsed": false
   },
   "outputs": [
    {
     "data": {
      "text/plain": [
       "Pipeline(steps=[('countvectorizer', CountVectorizer(analyzer=<function tokenize at 0x11fd2ae60>, binary=False,\n",
       "        decode_error=u'strict', dtype=<type 'numpy.int64'>,\n",
       "        encoding=u'utf-8', input=u'content', lowercase=True, max_df=1.0,\n",
       "        max_features=None, min_df=1, ngram_range=(1, 1), preproce...f',\n",
       "  max_iter=-1, probability=False, random_state=47, shrinking=True,\n",
       "  tol=0.001, verbose=False))])"
      ]
     },
     "execution_count": 41,
     "metadata": {},
     "output_type": "execute_result"
    }
   ],
   "source": [
    "# fit pipeline\n",
    "optimized_svcpipe.fit(X_train, y_train)"
   ]
  },
  {
   "cell_type": "code",
   "execution_count": 45,
   "metadata": {
    "collapsed": false
   },
   "outputs": [
    {
     "name": "stdout",
     "output_type": "stream",
     "text": [
      "             precision    recall  f1-score   support\n",
      "\n",
      "          0       0.97      0.96      0.96       357\n",
      "          1       0.94      0.96      0.95        93\n",
      "          2       0.93      0.98      0.95       220\n",
      "          3       0.97      0.92      0.94       216\n",
      "          4       0.91      0.95      0.93        94\n",
      "          5       0.98      0.97      0.97       351\n",
      "\n",
      "avg / total       0.96      0.96      0.96      1331\n",
      "\n",
      "[[343   1   5   2   2   4]\n",
      " [  2  89   0   1   0   1]\n",
      " [  1   0 216   1   2   0]\n",
      " [  3   5   5 198   2   3]\n",
      " [  1   0   2   2  89   0]\n",
      " [  4   0   5   0   3 339]]\n"
     ]
    }
   ],
   "source": [
    "# predict & print classification reports\n",
    "y_pred = optimized_svcpipe.predict(X_test)\n",
    "print classification_report(y_test, y_pred)\n",
    "print confusion_matrix(y_test, y_pred)"
   ]
  },
  {
   "cell_type": "markdown",
   "metadata": {},
   "source": [
    "## This seems too good to be true! Look for authors' names in the review text, this would be a giveaway"
   ]
  },
  {
   "cell_type": "code",
   "execution_count": 66,
   "metadata": {
    "collapsed": false
   },
   "outputs": [],
   "source": [
    "full_name = []\n",
    "last_name_only = []\n",
    "for i in range(len(df)):\n",
    "    author = df.byline.iloc[i]\n",
    "    if author in df.full_review_text.iloc[i].lower(): # presence of full name\n",
    "        full_name.append(i)\n",
    "    elif word_tokenize(author)[-1] in df.full_review_text.iloc[i].lower():\n",
    "        last_name_only.append(i)"
   ]
  },
  {
   "cell_type": "code",
   "execution_count": 67,
   "metadata": {
    "collapsed": false
   },
   "outputs": [
    {
     "name": "stdout",
     "output_type": "stream",
     "text": [
      "121\n",
      "264\n"
     ]
    }
   ],
   "source": [
    "print len(full_name)\n",
    "print len(last_name_only)"
   ]
  },
  {
   "cell_type": "markdown",
   "metadata": {},
   "source": [
    "## This is a problem for at least a portion of our data, and there may be more giveaways of the author's name from slightly misspelled versions. \n",
    "\n",
    "## Try using spaCy to identify named entities."
   ]
  },
  {
   "cell_type": "code",
   "execution_count": 69,
   "metadata": {
    "collapsed": false
   },
   "outputs": [],
   "source": [
    "import spacy\n",
    "en_nlp = spacy.load('en')"
   ]
  },
  {
   "cell_type": "code",
   "execution_count": 78,
   "metadata": {
    "collapsed": true
   },
   "outputs": [],
   "source": [
    "doc = en_nlp(unicode(df.full_review_text.iloc[0], 'utf-8'))"
   ]
  },
  {
   "cell_type": "code",
   "execution_count": 86,
   "metadata": {
    "collapsed": false
   },
   "outputs": [
    {
     "name": "stdout",
     "output_type": "stream",
     "text": [
      "Anne Fontaines PERSON\n",
      "The Innocents WORK_OF_ART\n",
      "Polish NORP\n",
      "December 1945 DATE\n",
      "the end of DATE\n",
      "World War II EVENT\n",
      "first ORDINAL\n",
      "Mathilde Lou PERSON\n",
      "Breathe ORG\n",
      "French NORP\n",
      "Red Cross ORG\n",
      "One day DATE\n",
      "Mathilde PERSON\n",
      "Benedictine ORG\n",
      "Mathilde PERSON\n",
      "Mathilde PERSON\n",
      "Mother Abbess Agata Kulesza ORG\n",
      "Ida PERSON\n",
      "Mathilde PERSON\n",
      "several months DATE\n",
      "Soviet NORP\n",
      "Poland GPE\n",
      "Mathilde PERSON\n",
      "The Innocents PERSON\n",
      "Madeleine Pauliac PERSON\n",
      "Red Cross ORG\n",
      "Mathilde PERSON\n",
      "two CARDINAL\n",
      "Benedictine ORG\n",
      "Mathilde PERSON\n",
      "Soviet NORP\n",
      "Innocents NORP\n",
      "Mathilde PERSON\n",
      "Ms de Lage PERSON\n",
      "Samuel Vincent PERSON\n",
      "Jewish NORP\n",
      "Ms Fontaine PERSON\n",
      "Alice Vial PERSON\n",
      "Philippe Maynial PERSON\n",
      "two CARDINAL\n",
      "Mathilde PERSON\n",
      "Innocents ORG\n",
      "Maria Agata PERSON\n",
      "24 hours TIME\n",
      "one minute TIME\n",
      "French NORP\n",
      "Polish NORP\n",
      "English NORP\n",
      "1 hour 55 minutes TIME\n"
     ]
    }
   ],
   "source": [
    "for ent in doc.ents:\n",
    "    print ent, ent.label_"
   ]
  },
  {
   "cell_type": "markdown",
   "metadata": {},
   "source": [
    "### This isn't perfect -- \"the end of\" and \"one minute\", for example, might not be things we want to remove, but it seems to do a reasonably good job of picking up persons. Iterate through dataset to remove all PERSON entities."
   ]
  },
  {
   "cell_type": "code",
   "execution_count": null,
   "metadata": {
    "collapsed": false
   },
   "outputs": [],
   "source": [
    "no_names = []\n",
    "i = 0\n",
    "for review in df.full_review_text: \n",
    "    text = unicode(review, 'utf-8')\n",
    "    doc = en_nlp(text)\n",
    "    for ent in doc.ents:\n",
    "        if ent.label_ == 'PERSON':\n",
    "            text = text.replace(ent.text, '')\n",
    "    no_names.append(text)"
   ]
  },
  {
   "cell_type": "code",
   "execution_count": 98,
   "metadata": {
    "collapsed": false
   },
   "outputs": [],
   "source": [
    "df['full_review_names_removed'] = no_names"
   ]
  },
  {
   "cell_type": "markdown",
   "metadata": {},
   "source": [
    "## Try model again using the cleansed review texts"
   ]
  },
  {
   "cell_type": "code",
   "execution_count": 99,
   "metadata": {
    "collapsed": true
   },
   "outputs": [],
   "source": [
    "X = df.full_review_names_removed"
   ]
  },
  {
   "cell_type": "code",
   "execution_count": 103,
   "metadata": {
    "collapsed": false
   },
   "outputs": [
    {
     "name": "stdout",
     "output_type": "stream",
     "text": [
      "Fitting 3 folds for each of 15 candidates, totalling 45 fits\n"
     ]
    },
    {
     "name": "stderr",
     "output_type": "stream",
     "text": [
      "[Parallel(n_jobs=-1)]: Done  45 out of  45 | elapsed: 21.9min finished\n"
     ]
    },
    {
     "data": {
      "text/plain": [
       "GridSearchCV(cv=3, error_score='raise',\n",
       "       estimator=Pipeline(steps=[('countvectorizer', CountVectorizer(analyzer=<function tokenize at 0x11fd2ae60>, binary=False,\n",
       "        decode_error=u'strict', dtype=<type 'numpy.int64'>,\n",
       "        encoding=u'utf-8', input=u'content', lowercase=True, max_df=1.0,\n",
       "        max_features=None, min_df=1, ngram_range=(1, 1), preproce...f',\n",
       "  max_iter=-1, probability=False, random_state=47, shrinking=True,\n",
       "  tol=0.001, verbose=False))]),\n",
       "       fit_params={}, iid=True, n_jobs=-1,\n",
       "       param_grid={'countvectorizer__ngram_range': [(1, 1), (1, 3), (1, 5)], 'svc__C': [0.01, 0.1, 1, 10, 100]},\n",
       "       pre_dispatch='2*n_jobs', refit=True, scoring='accuracy', verbose=1)"
      ]
     },
     "execution_count": 103,
     "metadata": {},
     "output_type": "execute_result"
    }
   ],
   "source": [
    "grid.fit(X, y)"
   ]
  },
  {
   "cell_type": "code",
   "execution_count": 104,
   "metadata": {
    "collapsed": false
   },
   "outputs": [
    {
     "name": "stdout",
     "output_type": "stream",
     "text": [
      "0.928303021193\n",
      "{'countvectorizer__ngram_range': (1, 1), 'svc__C': 100}\n"
     ]
    }
   ],
   "source": [
    "print grid.best_score_\n",
    "print grid.best_params_"
   ]
  },
  {
   "cell_type": "code",
   "execution_count": 106,
   "metadata": {
    "collapsed": true
   },
   "outputs": [],
   "source": [
    "# use train_test_split and pipeline with optimized parameters to assess model performance\n",
    "X_train, X_test, y_train, y_test = train_test_split(X, y,\n",
    "        stratify = y, test_size=0.2, random_state=rs)"
   ]
  },
  {
   "cell_type": "code",
   "execution_count": 107,
   "metadata": {
    "collapsed": true
   },
   "outputs": [],
   "source": [
    "# pipeline with gridsearched best parameters\n",
    "optimized_svcpipe = make_pipeline(\n",
    "    CountVectorizer(strip_accents = 'ascii', analyzer = tokenize, stop_words = 'english',\n",
    "                   ngram_range = (1,1)),\n",
    "    SVC(random_state=rs, kernel = 'rbf', C = 100)\n",
    ")"
   ]
  },
  {
   "cell_type": "code",
   "execution_count": 108,
   "metadata": {
    "collapsed": false
   },
   "outputs": [
    {
     "data": {
      "text/plain": [
       "Pipeline(steps=[('countvectorizer', CountVectorizer(analyzer=<function tokenize at 0x11fd2ae60>, binary=False,\n",
       "        decode_error=u'strict', dtype=<type 'numpy.int64'>,\n",
       "        encoding=u'utf-8', input=u'content', lowercase=True, max_df=1.0,\n",
       "        max_features=None, min_df=1, ngram_range=(1, 1), preproce...f',\n",
       "  max_iter=-1, probability=False, random_state=47, shrinking=True,\n",
       "  tol=0.001, verbose=False))])"
      ]
     },
     "execution_count": 108,
     "metadata": {},
     "output_type": "execute_result"
    }
   ],
   "source": [
    "# fit pipeline\n",
    "optimized_svcpipe.fit(X_train, y_train)"
   ]
  },
  {
   "cell_type": "code",
   "execution_count": 109,
   "metadata": {
    "collapsed": false
   },
   "outputs": [
    {
     "name": "stdout",
     "output_type": "stream",
     "text": [
      "             precision    recall  f1-score   support\n",
      "\n",
      "          0       0.99      0.96      0.97       357\n",
      "          1       0.94      1.00      0.97        93\n",
      "          2       0.93      0.98      0.95       220\n",
      "          3       0.98      0.93      0.95       216\n",
      "          4       0.91      0.95      0.93        94\n",
      "          5       0.98      0.97      0.97       351\n",
      "\n",
      "avg / total       0.96      0.96      0.96      1331\n",
      "\n",
      "[[343   1   5   1   3   4]\n",
      " [  0  93   0   0   0   0]\n",
      " [  1   0 216   1   2   0]\n",
      " [  1   5   4 201   2   3]\n",
      " [  0   0   2   3  89   0]\n",
      " [  3   0   6   0   2 340]]\n"
     ]
    }
   ],
   "source": [
    "# predict & print classification reports\n",
    "y_pred = optimized_svcpipe.predict(X_test)\n",
    "print classification_report(y_test, y_pred)\n",
    "print confusion_matrix(y_test, y_pred)"
   ]
  },
  {
   "cell_type": "markdown",
   "metadata": {},
   "source": [
    "### The model actually improved with Person entities removed"
   ]
  },
  {
   "cell_type": "code",
   "execution_count": 131,
   "metadata": {
    "collapsed": false
   },
   "outputs": [
    {
     "data": {
      "text/html": [
       "<div>\n",
       "<table border=\"1\" class=\"dataframe\">\n",
       "  <thead>\n",
       "    <tr style=\"text-align: right;\">\n",
       "      <th></th>\n",
       "      <th>Predicted a. o. scott</th>\n",
       "      <th>Predicted elvis mitchell</th>\n",
       "      <th>Predicted jeannette catsoulis</th>\n",
       "      <th>Predicted manohla dargis</th>\n",
       "      <th>Predicted neil genzlinger</th>\n",
       "      <th>Predicted stephen holden</th>\n",
       "    </tr>\n",
       "  </thead>\n",
       "  <tbody>\n",
       "    <tr>\n",
       "      <th>Actual a. o. scott</th>\n",
       "      <td>343</td>\n",
       "      <td>1</td>\n",
       "      <td>5</td>\n",
       "      <td>1</td>\n",
       "      <td>3</td>\n",
       "      <td>4</td>\n",
       "    </tr>\n",
       "    <tr>\n",
       "      <th>Actual elvis mitchell</th>\n",
       "      <td>0</td>\n",
       "      <td>93</td>\n",
       "      <td>0</td>\n",
       "      <td>0</td>\n",
       "      <td>0</td>\n",
       "      <td>0</td>\n",
       "    </tr>\n",
       "    <tr>\n",
       "      <th>Actual jeannette catsoulis</th>\n",
       "      <td>1</td>\n",
       "      <td>0</td>\n",
       "      <td>216</td>\n",
       "      <td>1</td>\n",
       "      <td>2</td>\n",
       "      <td>0</td>\n",
       "    </tr>\n",
       "    <tr>\n",
       "      <th>Actual manohla dargis</th>\n",
       "      <td>1</td>\n",
       "      <td>5</td>\n",
       "      <td>4</td>\n",
       "      <td>201</td>\n",
       "      <td>2</td>\n",
       "      <td>3</td>\n",
       "    </tr>\n",
       "    <tr>\n",
       "      <th>Actual neil genzlinger</th>\n",
       "      <td>0</td>\n",
       "      <td>0</td>\n",
       "      <td>2</td>\n",
       "      <td>3</td>\n",
       "      <td>89</td>\n",
       "      <td>0</td>\n",
       "    </tr>\n",
       "    <tr>\n",
       "      <th>Actual stephen holden</th>\n",
       "      <td>3</td>\n",
       "      <td>0</td>\n",
       "      <td>6</td>\n",
       "      <td>0</td>\n",
       "      <td>2</td>\n",
       "      <td>340</td>\n",
       "    </tr>\n",
       "  </tbody>\n",
       "</table>\n",
       "</div>"
      ],
      "text/plain": [
       "                            Predicted a. o. scott  Predicted elvis mitchell  \\\n",
       "Actual a. o. scott                            343                         1   \n",
       "Actual elvis mitchell                           0                        93   \n",
       "Actual jeannette catsoulis                      1                         0   \n",
       "Actual manohla dargis                           1                         5   \n",
       "Actual neil genzlinger                          0                         0   \n",
       "Actual stephen holden                           3                         0   \n",
       "\n",
       "                            Predicted jeannette catsoulis  \\\n",
       "Actual a. o. scott                                      5   \n",
       "Actual elvis mitchell                                   0   \n",
       "Actual jeannette catsoulis                            216   \n",
       "Actual manohla dargis                                   4   \n",
       "Actual neil genzlinger                                  2   \n",
       "Actual stephen holden                                   6   \n",
       "\n",
       "                            Predicted manohla dargis  \\\n",
       "Actual a. o. scott                                 1   \n",
       "Actual elvis mitchell                              0   \n",
       "Actual jeannette catsoulis                         1   \n",
       "Actual manohla dargis                            201   \n",
       "Actual neil genzlinger                             3   \n",
       "Actual stephen holden                              0   \n",
       "\n",
       "                            Predicted neil genzlinger  \\\n",
       "Actual a. o. scott                                  3   \n",
       "Actual elvis mitchell                               0   \n",
       "Actual jeannette catsoulis                          2   \n",
       "Actual manohla dargis                               2   \n",
       "Actual neil genzlinger                             89   \n",
       "Actual stephen holden                               2   \n",
       "\n",
       "                            Predicted stephen holden  \n",
       "Actual a. o. scott                                 4  \n",
       "Actual elvis mitchell                              0  \n",
       "Actual jeannette catsoulis                         0  \n",
       "Actual manohla dargis                              3  \n",
       "Actual neil genzlinger                             0  \n",
       "Actual stephen holden                            340  "
      ]
     },
     "execution_count": 131,
     "metadata": {},
     "output_type": "execute_result"
    }
   ],
   "source": [
    "# look at confusion matrix with authors' names:\n",
    "confuse = pd.DataFrame(confusion_matrix(y_test, y_pred))\n",
    "authors = le.inverse_transform([0,1,2,3,4,5])\n",
    "confuse.columns = ['Predicted %s' % x for x in authors]\n",
    "confuse.index = ['Actual %s' % x for x in authors]\n",
    "confuse"
   ]
  },
  {
   "cell_type": "code",
   "execution_count": 135,
   "metadata": {
    "collapsed": false
   },
   "outputs": [
    {
     "data": {
      "text/plain": [
       "<matplotlib.axes._subplots.AxesSubplot at 0x128c7ce50>"
      ]
     },
     "execution_count": 135,
     "metadata": {},
     "output_type": "execute_result"
    },
    {
     "data": {
      "image/png": "[encoded data removed]",
      "text/plain": [
       "<matplotlib.figure.Figure at 0x128eb7f90>"
      ]
     },
     "metadata": {},
     "output_type": "display_data"
    }
   ],
   "source": [
    "sns.heatmap(confuse, vmin = 0, vmax = 80)"
   ]
  }
 ],
 "metadata": {
  "kernelspec": {
   "display_name": "Python 2",
   "language": "python",
   "name": "python2"
  },
  "language_info": {
   "codemirror_mode": {
    "name": "ipython",
    "version": 2
   },
   "file_extension": ".py",
   "mimetype": "text/x-python",
   "name": "python",
   "nbconvert_exporter": "python",
   "pygments_lexer": "ipython2",
   "version": "2.7.11"
  }
 },
 "nbformat": 4,
 "nbformat_minor": 0
}
