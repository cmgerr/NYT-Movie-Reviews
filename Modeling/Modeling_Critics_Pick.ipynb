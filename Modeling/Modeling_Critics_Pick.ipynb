{
 "cells": [
  {
   "cell_type": "code",
   "execution_count": 1,
   "metadata": {
    "collapsed": true
   },
   "outputs": [],
   "source": [
    "import pandas as pd\n",
    "import numpy as np\n",
    "import matplotlib.pyplot as plt\n",
    "import seaborn as sns\n",
    "%matplotlib inline\n",
    "from sklearn.preprocessing import StandardScaler\n",
    "from sklearn.neighbors import KNeighborsClassifier\n",
    "from sklearn.pipeline import make_pipeline, Pipeline, FeatureUnion\n",
    "from sklearn.cross_validation import cross_val_score, train_test_split\n",
    "from sklearn.naive_bayes import MultinomialNB\n",
    "from sklearn.feature_extraction.text import CountVectorizer, TfidfTransformer, TfidfVectorizer\n",
    "from sklearn.svm import SVC\n",
    "from sklearn.metrics import roc_curve\n",
    "from nltk.stem.porter import PorterStemmer\n",
    "from nltk import word_tokenize\n",
    "from sklearn.grid_search import GridSearchCV\n",
    "import matplotlib\n",
    "matplotlib.style.use('ggplot')\n",
    "\n",
    "# define random state to use\n",
    "rs = 47"
   ]
  },
  {
   "cell_type": "code",
   "execution_count": 2,
   "metadata": {
    "collapsed": false
   },
   "outputs": [],
   "source": [
    "df = pd.read_csv('../../NYT_Reviews_Cleaned.csv')"
   ]
  },
  {
   "cell_type": "code",
   "execution_count": 3,
   "metadata": {
    "collapsed": false
   },
   "outputs": [],
   "source": [
    "# update publication date to datetime and set as index\n",
    "df['publication_date'] = pd.to_datetime(df['publication_date'])\n",
    "df.set_index('publication_date', inplace=True)"
   ]
  },
  {
   "cell_type": "code",
   "execution_count": 4,
   "metadata": {
    "collapsed": true
   },
   "outputs": [],
   "source": [
    "X = df['full_review_text']\n",
    "y = df['critics_pick']"
   ]
  },
  {
   "cell_type": "code",
   "execution_count": 5,
   "metadata": {
    "collapsed": false
   },
   "outputs": [
    {
     "data": {
      "text/plain": [
       "0.0    0.794909\n",
       "1.0    0.205091\n",
       "Name: critics_pick, dtype: float64"
      ]
     },
     "execution_count": 5,
     "metadata": {},
     "output_type": "execute_result"
    }
   ],
   "source": [
    "# check class balance\n",
    "y.value_counts()/y.count()"
   ]
  },
  {
   "cell_type": "code",
   "execution_count": 6,
   "metadata": {
    "collapsed": false
   },
   "outputs": [],
   "source": [
    "# define a tokenizer that uses porter stemmer to get stems of words\n",
    "stemmer = PorterStemmer()\n",
    "\n",
    "def tokenize(s):\n",
    "    words = word_tokenize(s)\n",
    "    word_stems = []\n",
    "    for word in words:\n",
    "        word_stems.append(stemmer.stem(word))\n",
    "    return word_stems"
   ]
  },
  {
   "cell_type": "code",
   "execution_count": 8,
   "metadata": {
    "collapsed": false
   },
   "outputs": [],
   "source": [
    "# create pipeline with CountVectorizer and MultinomialNB over which to gridsearch\n",
    "pipe = make_pipeline(\n",
    "    CountVectorizer(strip_accents = 'ascii', analyzer = tokenize, stop_words = 'english', ngram_range=(1,2)), \n",
    "    MultinomialNB(alpha = 0.4)\n",
    ")"
   ]
  },
  {
   "cell_type": "code",
   "execution_count": 12,
   "metadata": {
    "collapsed": false
   },
   "outputs": [],
   "source": [
    "# below code was run iteratively over different ranges of values to find optimal parameters\n",
    "param_grid = dict(countvectorizer__ngram_range= [(1,1),(1,2),(1,3),(1,4)], multinomialnb__alpha= [0.1,0.4,0.7])\n",
    "grid = GridSearchCV(pipe, param_grid, cv=3, scoring='roc_auc', verbose=1, n_jobs=-1)"
   ]
  },
  {
   "cell_type": "code",
   "execution_count": 13,
   "metadata": {
    "collapsed": false
   },
   "outputs": [
    {
     "name": "stdout",
     "output_type": "stream",
     "text": [
      "Fitting 3 folds for each of 12 candidates, totalling 36 fits\n"
     ]
    },
    {
     "name": "stderr",
     "output_type": "stream",
     "text": [
      "[Parallel(n_jobs=-1)]: Done  36 out of  36 | elapsed: 12.4min finished\n"
     ]
    },
    {
     "data": {
      "text/plain": [
       "GridSearchCV(cv=3, error_score='raise',\n",
       "       estimator=Pipeline(steps=[('countvectorizer', CountVectorizer(analyzer=<function tokenize at 0x11f8b42a8>, binary=False,\n",
       "        decode_error=u'strict', dtype=<type 'numpy.int64'>,\n",
       "        encoding=u'utf-8', input=u'content', lowercase=True, max_df=1.0,\n",
       "        max_features=None, min_df=1, ngram_range=(1, 2), preproce...   vocabulary=None)), ('multinomialnb', MultinomialNB(alpha=0.4, class_prior=None, fit_prior=True))]),\n",
       "       fit_params={}, iid=True, n_jobs=-1,\n",
       "       param_grid={'countvectorizer__ngram_range': [(1, 1), (1, 2), (1, 3), (1, 4)], 'multinomialnb__alpha': [0.1, 0.4, 0.7]},\n",
       "       pre_dispatch='2*n_jobs', refit=True, scoring='roc_auc', verbose=1)"
      ]
     },
     "execution_count": 13,
     "metadata": {},
     "output_type": "execute_result"
    }
   ],
   "source": [
    "# fit gridsearch\n",
    "grid.fit(X, y)"
   ]
  },
  {
   "cell_type": "code",
   "execution_count": 14,
   "metadata": {
    "collapsed": false
   },
   "outputs": [
    {
     "name": "stdout",
     "output_type": "stream",
     "text": [
      "0.682677377391\n",
      "{'countvectorizer__ngram_range': (1, 1), 'multinomialnb__alpha': 0.4}\n"
     ]
    }
   ],
   "source": [
    "# print best score and parameters\n",
    "print grid.best_score_\n",
    "print grid.best_params_"
   ]
  },
  {
   "cell_type": "code",
   "execution_count": 93,
   "metadata": {
    "collapsed": false
   },
   "outputs": [
    {
     "name": "stderr",
     "output_type": "stream",
     "text": [
      "[Parallel(n_jobs=1)]: Done   5 out of   5 | elapsed:  7.8min finished\n"
     ]
    },
    {
     "data": {
      "text/plain": [
       "0.69538049265793123"
      ]
     },
     "execution_count": 93,
     "metadata": {},
     "output_type": "execute_result"
    }
   ],
   "source": [
    "# check cross validated score using optimal parameters in pipeline\n",
    "cross_val_score(pipe, X, y, cv=5, verbose = 1, scoring='roc_auc').mean()"
   ]
  },
  {
   "cell_type": "markdown",
   "metadata": {},
   "source": [
    "### Try KNN"
   ]
  },
  {
   "cell_type": "code",
   "execution_count": 7,
   "metadata": {
    "collapsed": true
   },
   "outputs": [],
   "source": [
    "# create pipeline with CountVectorizer and kNN over which to gridsearch\n",
    "pipe2 = make_pipeline(\n",
    "    CountVectorizer(strip_accents = 'ascii', analyzer = tokenize, stop_words = 'english', ngram_range = (1,1)), \n",
    "    KNeighborsClassifier(n_jobs=-1)\n",
    ")"
   ]
  },
  {
   "cell_type": "code",
   "execution_count": 8,
   "metadata": {
    "collapsed": true
   },
   "outputs": [],
   "source": [
    "# below code was run iteratively over different ranges of values to find optimal parameters\n",
    "param_grid = dict(kneighborsclassifier__n_neighbors = [20,30,40])\n",
    "grid2 = GridSearchCV(pipe2, param_grid, cv=3, scoring='roc_auc', verbose=1, n_jobs=-1)"
   ]
  },
  {
   "cell_type": "code",
   "execution_count": 9,
   "metadata": {
    "collapsed": false
   },
   "outputs": [
    {
     "name": "stdout",
     "output_type": "stream",
     "text": [
      "Fitting 3 folds for each of 3 candidates, totalling 9 fits\n"
     ]
    },
    {
     "name": "stderr",
     "output_type": "stream",
     "text": [
      "/Users/caitlingerrity/anaconda/lib/python2.7/site-packages/sklearn/metrics/pairwise.py:1060: UserWarning: Multiprocessing-backed parallel loops cannot be nested, setting n_jobs=1\n",
      "  for s in gen_even_slices(Y.shape[0], n_jobs))\n",
      "/Users/caitlingerrity/anaconda/lib/python2.7/site-packages/sklearn/metrics/pairwise.py:1060: UserWarning: Multiprocessing-backed parallel loops cannot be nested, setting n_jobs=1\n",
      "  for s in gen_even_slices(Y.shape[0], n_jobs))\n",
      "/Users/caitlingerrity/anaconda/lib/python2.7/site-packages/sklearn/metrics/pairwise.py:1060: UserWarning: Multiprocessing-backed parallel loops cannot be nested, setting n_jobs=1\n",
      "  for s in gen_even_slices(Y.shape[0], n_jobs))\n",
      "/Users/caitlingerrity/anaconda/lib/python2.7/site-packages/sklearn/metrics/pairwise.py:1060: UserWarning: Multiprocessing-backed parallel loops cannot be nested, setting n_jobs=1\n",
      "  for s in gen_even_slices(Y.shape[0], n_jobs))\n",
      "/Users/caitlingerrity/anaconda/lib/python2.7/site-packages/sklearn/metrics/pairwise.py:1060: UserWarning: Multiprocessing-backed parallel loops cannot be nested, setting n_jobs=1\n",
      "  for s in gen_even_slices(Y.shape[0], n_jobs))\n",
      "/Users/caitlingerrity/anaconda/lib/python2.7/site-packages/sklearn/metrics/pairwise.py:1060: UserWarning: Multiprocessing-backed parallel loops cannot be nested, setting n_jobs=1\n",
      "  for s in gen_even_slices(Y.shape[0], n_jobs))\n",
      "/Users/caitlingerrity/anaconda/lib/python2.7/site-packages/sklearn/metrics/pairwise.py:1060: UserWarning: Multiprocessing-backed parallel loops cannot be nested, setting n_jobs=1\n",
      "  for s in gen_even_slices(Y.shape[0], n_jobs))\n",
      "/Users/caitlingerrity/anaconda/lib/python2.7/site-packages/sklearn/metrics/pairwise.py:1060: UserWarning: Multiprocessing-backed parallel loops cannot be nested, setting n_jobs=1\n",
      "  for s in gen_even_slices(Y.shape[0], n_jobs))\n",
      "[Parallel(n_jobs=-1)]: Done   9 out of   9 | elapsed:  4.8min finished\n"
     ]
    },
    {
     "data": {
      "text/plain": [
       "GridSearchCV(cv=3, error_score='raise',\n",
       "       estimator=Pipeline(steps=[('countvectorizer', CountVectorizer(analyzer=<function tokenize at 0x11ef90de8>, binary=False,\n",
       "        decode_error=u'strict', dtype=<type 'numpy.int64'>,\n",
       "        encoding=u'utf-8', input=u'content', lowercase=True, max_df=1.0,\n",
       "        max_features=None, min_df=1, ngram_range=(1, 1), preproce...wski',\n",
       "           metric_params=None, n_jobs=-1, n_neighbors=5, p=2,\n",
       "           weights='uniform'))]),\n",
       "       fit_params={}, iid=True, n_jobs=-1,\n",
       "       param_grid={'kneighborsclassifier__n_neighbors': [20, 30, 40]},\n",
       "       pre_dispatch='2*n_jobs', refit=True, scoring='roc_auc', verbose=1)"
      ]
     },
     "execution_count": 9,
     "metadata": {},
     "output_type": "execute_result"
    }
   ],
   "source": [
    "# fit gridsearch\n",
    "grid2.fit(X,y)"
   ]
  },
  {
   "cell_type": "code",
   "execution_count": 10,
   "metadata": {
    "collapsed": false
   },
   "outputs": [
    {
     "name": "stdout",
     "output_type": "stream",
     "text": [
      "0.645828556884\n",
      "{'kneighborsclassifier__n_neighbors': 30}\n"
     ]
    }
   ],
   "source": [
    "# print best score and parameters\n",
    "print grid2.best_score_\n",
    "print grid2.best_params_"
   ]
  },
  {
   "cell_type": "code",
   "execution_count": 16,
   "metadata": {
    "collapsed": false
   },
   "outputs": [
    {
     "name": "stderr",
     "output_type": "stream",
     "text": [
      "[Parallel(n_jobs=1)]: Done   5 out of   5 | elapsed:  7.5min finished\n"
     ]
    },
    {
     "data": {
      "text/plain": [
       "0.68447573220433955"
      ]
     },
     "execution_count": 16,
     "metadata": {},
     "output_type": "execute_result"
    }
   ],
   "source": [
    "# check cross validated score using optimal parameters in pipeline\n",
    "cross_val_score(pipe2, X, y, cv=5, verbose = 1, scoring='roc_auc').mean()"
   ]
  },
  {
   "cell_type": "markdown",
   "metadata": {},
   "source": [
    "### Try SVM"
   ]
  },
  {
   "cell_type": "code",
   "execution_count": 11,
   "metadata": {
    "collapsed": false
   },
   "outputs": [],
   "source": [
    "# create pipeline with CountVectorizer and SVM over which to gridsearch\n",
    "pipe3 = make_pipeline(\n",
    "    CountVectorizer(strip_accents = 'ascii', analyzer = tokenize, \n",
    "                    stop_words = 'english', ngram_range = (1,1)),\n",
    "    SVC(kernel = 'rbf', C = 35, random_state = rs)\n",
    ")"
   ]
  },
  {
   "cell_type": "code",
   "execution_count": 9,
   "metadata": {
    "collapsed": true
   },
   "outputs": [],
   "source": [
    "# below code was run iteratively over different ranges of values to find optimal parameters\n",
    "param_grid = dict(countvectorizer__ngram_range = [(1,1),(1,2),(1,3),(1,4)])\n",
    "grid3 = GridSearchCV(pipe3, param_grid, cv=3, scoring='roc_auc', verbose=1, n_jobs=-1)"
   ]
  },
  {
   "cell_type": "code",
   "execution_count": 10,
   "metadata": {
    "collapsed": false
   },
   "outputs": [
    {
     "name": "stdout",
     "output_type": "stream",
     "text": [
      "Fitting 3 folds for each of 4 candidates, totalling 12 fits\n"
     ]
    },
    {
     "name": "stderr",
     "output_type": "stream",
     "text": [
      "[Parallel(n_jobs=-1)]: Done  12 out of  12 | elapsed: 18.8min finished\n"
     ]
    },
    {
     "data": {
      "text/plain": [
       "GridSearchCV(cv=3, error_score='raise',\n",
       "       estimator=Pipeline(steps=[('countvectorizer', CountVectorizer(analyzer=<function tokenize at 0x11f98fde8>, binary=False,\n",
       "        decode_error=u'strict', dtype=<type 'numpy.int64'>,\n",
       "        encoding=u'utf-8', input=u'content', lowercase=True, max_df=1.0,\n",
       "        max_features=None, min_df=1, ngram_range=(1, 1), preproce...bf',\n",
       "  max_iter=-1, probability=True, random_state=47, shrinking=True,\n",
       "  tol=0.001, verbose=False))]),\n",
       "       fit_params={}, iid=True, n_jobs=-1,\n",
       "       param_grid={'countvectorizer__ngram_range': [(1, 1), (1, 2), (1, 3), (1, 4)]},\n",
       "       pre_dispatch='2*n_jobs', refit=True, scoring='roc_auc', verbose=1)"
      ]
     },
     "execution_count": 10,
     "metadata": {},
     "output_type": "execute_result"
    }
   ],
   "source": [
    "# fit gridsearch\n",
    "grid3.fit(X,y)"
   ]
  },
  {
   "cell_type": "code",
   "execution_count": 11,
   "metadata": {
    "collapsed": false
   },
   "outputs": [
    {
     "name": "stdout",
     "output_type": "stream",
     "text": [
      "0.784595092651\n",
      "{'countvectorizer__ngram_range': (1, 1)}\n"
     ]
    }
   ],
   "source": [
    "# print best score and parameters\n",
    "print grid3.best_score_\n",
    "print grid3.best_params_"
   ]
  },
  {
   "cell_type": "code",
   "execution_count": 12,
   "metadata": {
    "collapsed": false
   },
   "outputs": [
    {
     "name": "stderr",
     "output_type": "stream",
     "text": [
      "[Parallel(n_jobs=1)]: Done   5 out of   5 | elapsed: 18.8min finished\n"
     ]
    },
    {
     "data": {
      "text/plain": [
       "0.79571656257313417"
      ]
     },
     "execution_count": 12,
     "metadata": {},
     "output_type": "execute_result"
    }
   ],
   "source": [
    "# check cross validated score using optimal parameters in pipeline\n",
    "cross_val_score(pipe3, X, y, cv=5, verbose = 1, scoring='roc_auc').mean()"
   ]
  },
  {
   "cell_type": "code",
   "execution_count": 15,
   "metadata": {
    "collapsed": true
   },
   "outputs": [],
   "source": [
    "# do train_test_split\n",
    "X_train, X_test, y_train, y_test = train_test_split(X, y,\n",
    "        stratify = y, test_size=0.2, random_state=rs)"
   ]
  },
  {
   "cell_type": "code",
   "execution_count": 18,
   "metadata": {
    "collapsed": true
   },
   "outputs": [],
   "source": [
    "svm_pipe = make_pipeline(\n",
    "    CountVectorizer(strip_accents = 'ascii', analyzer = tokenize, stop_words = 'english'),\n",
    "    SVC(kernel = 'rbf', C = 35, random_state = rs, probability=True)\n",
    ")"
   ]
  },
  {
   "cell_type": "code",
   "execution_count": 19,
   "metadata": {
    "collapsed": false
   },
   "outputs": [],
   "source": [
    "svm_pipe.fit(X_train, y_train)\n",
    "y_proba = svm_pipe.predict_proba(X_test)"
   ]
  },
  {
   "cell_type": "code",
   "execution_count": 20,
   "metadata": {
    "collapsed": false
   },
   "outputs": [
    {
     "data": {
      "text/plain": [
       "0.8218040951853901"
      ]
     },
     "execution_count": 20,
     "metadata": {},
     "output_type": "execute_result"
    }
   ],
   "source": [
    "svm_pipe.score(X_test, y_test)"
   ]
  },
  {
   "cell_type": "code",
   "execution_count": 52,
   "metadata": {
    "collapsed": false
   },
   "outputs": [],
   "source": [
    "# function to plot ROC curve, where y_list is a list of lists with format:\n",
    "# [y_test, y_proba, color (string), name (string)]\n",
    "def plotROC(y_list, plotTitle):\n",
    "    leg = []\n",
    "    plt.figure(figsize= (7,7))\n",
    "    for y_test, y_proba, color, name in y_list:\n",
    "        fpr, tpr, _ = roc_curve(y_test, y_proba[:,1])\n",
    "        plt.plot(fpr, tpr, color = color)\n",
    "        plt.xlabel('FPR')\n",
    "        plt.ylabel('TPR')\n",
    "        leg.append(name)\n",
    "    leg.append(\"Guessing\")\n",
    "    plt.plot([0,1],[0,1], 'w')\n",
    "    plt.title(plotTitle)\n",
    "    plt.legend(leg, loc = 'lower right', bbox_to_anchor=(1,0.5), borderaxespad=0.)\n",
    "    plt.xlim(-.01,1.01)\n",
    "    plt.ylim(-.01,1.01)"
   ]
  },
  {
   "cell_type": "code",
   "execution_count": 55,
   "metadata": {
    "collapsed": false
   },
   "outputs": [
    {
     "data": {
      "image/png": "[encoded data removed]",
      "text/plain": [
       "<matplotlib.figure.Figure at 0x11dc38150>"
      ]
     },
     "metadata": {},
     "output_type": "display_data"
    },
    {
     "data": {
      "text/plain": [
       "<matplotlib.figure.Figure at 0x11dc38710>"
      ]
     },
     "metadata": {},
     "output_type": "display_data"
    }
   ],
   "source": [
    "plotROC([[y_test, y_proba, 'purple', 'SVM']], 'SVM Model ROC Curve')\n",
    "plt.savefig('../Images/SVM_Model_ROC_Curve.png')\n",
    "plt.show()"
   ]
  },
  {
   "cell_type": "code",
   "execution_count": 46,
   "metadata": {
    "collapsed": false
   },
   "outputs": [],
   "source": [
    "# function to plot precision, FPR and TPR versus model probability threshold\n",
    "def getPlotValueAdd(probas, y_test):\n",
    "    # create dataframe with the model's predicted P(unhappy) along with boolean for actual unhappiness\n",
    "    modelprobs = pd.DataFrame()\n",
    "    modelprobs['Model_Prob_Positive'] = probas[:,1]\n",
    "    modelprobs['Positive_True'] = y_test.as_matrix()\n",
    "\n",
    "    # sort by P(Unhappy) and add columns for % Unhappy and % Happy people falling above that threshold\n",
    "    modelprobs.sort_values(by='Model_Prob_Positive', axis=0, inplace=True, ascending=False)\n",
    "    modelprobs['TPR'] = np.cumsum(modelprobs['Positive_True'])/np.sum(modelprobs['Positive_True'])\n",
    "    modelprobs['FPR'] = np.cumsum(1-modelprobs['Positive_True'])/np.sum(1-modelprobs['Positive_True'])\n",
    "    # add column with ratio of correct prediction (ie, precision for predicting unhappiness)\n",
    "    modelprobs['Precision (portion of positive predictions correct)'] = np.cumsum(modelprobs['Positive_True'])/(np.cumsum(modelprobs['Positive_True']) + np.cumsum(1-modelprobs['Positive_True']))\n",
    "\n",
    "    # Plot the difference\n",
    "    plt.figure(figsize= (7,7))\n",
    "    x = modelprobs['Model_Prob_Positive']\n",
    "    y1 = modelprobs['TPR']\n",
    "    y2 = modelprobs['FPR']\n",
    "    y3 = modelprobs['Precision (portion of positive predictions correct)']\n",
    "    plt.plot(x, y1, 'purple', x, y2, 'blue', x, y3, 'w')\n",
    "    plt.xlim(-.01,1.01)\n",
    "    plt.ylim(-.01,1.01)\n",
    "    plt.xlabel(\"Model P(Positive) Threshold\")\n",
    "    plt.legend([\"True Positive Rate\", \"False Positive Rate\", \"Precision\"],loc = 'lower right', bbox_to_anchor=(1,0.5), borderaxespad=0.)\n"
   ]
  },
  {
   "cell_type": "code",
   "execution_count": 56,
   "metadata": {
    "collapsed": false
   },
   "outputs": [
    {
     "data": {
      "image/png": "[encoded data removed]",
      "text/plain": [
       "<matplotlib.figure.Figure at 0x11d74de50>"
      ]
     },
     "metadata": {},
     "output_type": "display_data"
    }
   ],
   "source": [
    "getPlotValueAdd(y_proba, y_test)\n",
    "plt.title(\"SVM Model Probablility Threshold Selection\")\n",
    "plt.savefig('../Images/SVM_Model_P_Threshold.png')\n",
    "plt.show()"
   ]
  }
 ],
 "metadata": {
  "kernelspec": {
   "display_name": "Python 2",
   "language": "python",
   "name": "python2"
  },
  "language_info": {
   "codemirror_mode": {
    "name": "ipython",
    "version": 2
   },
   "file_extension": ".py",
   "mimetype": "text/x-python",
   "name": "python",
   "nbconvert_exporter": "python",
   "pygments_lexer": "ipython2",
   "version": "2.7.11"
  }
 },
 "nbformat": 4,
 "nbformat_minor": 0
}
